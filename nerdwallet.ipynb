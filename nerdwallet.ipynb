{
 "cells": [
  {
   "cell_type": "code",
   "execution_count": 145,
   "metadata": {},
   "outputs": [],
   "source": [
    "import pandas as pd\n",
    "import numpy as np\n",
    "import datetime as dt\n",
    "import matplotlib.pyplot as plt\n",
    "from sklearn.metrics import confusion_matrix\n",
    "import itertools\n",
    "from sklearn.ensemble import RandomForestClassifier\n",
    "from sklearn.model_selection import train_test_split\n",
    "from sklearn.model_selection import cross_val_score\n",
    "import operator\n",
    "from sklearn import preprocessing\n",
    "from sklearn.feature_extraction import FeatureHasher\n",
    "import copy\n",
    "from sklearn.linear_model import LogisticRegression\n",
    "from scipy import interp\n",
    "from  sklearn.metrics import precision_recall_fscore_support\n",
    "from sklearn.metrics import roc_curve, auc\n",
    "from sklearn.preprocessing import LabelBinarizer\n",
    "from collections import Counter\n",
    "%matplotlib inline"
   ]
  },
  {
   "cell_type": "code",
   "execution_count": 111,
   "metadata": {},
   "outputs": [],
   "source": [
    "def class_report(y_true, y_pred, y_score=None, average='micro'):\n",
    "    if y_true.shape != y_pred.shape:\n",
    "        print(\"Error! y_true %s is not the same shape as y_pred %s\" % (\n",
    "              y_true.shape,\n",
    "              y_pred.shape)\n",
    "        ) \n",
    "        \n",
    "        return \n",
    "    \n",
    "    lb = LabelBinarizer()\n",
    "    if len(y_true.shape) == 1:\n",
    "        lb.fit(y_true)\n",
    "\n",
    "    #Value counts of predictions\n",
    "    labels, cnt = np.unique(y_pred,return_counts=True)\n",
    "    n_classes = len(labels)\n",
    "    pred_cnt = pd.Series(cnt, index=labels)\n",
    "\n",
    "    metrics_summary = precision_recall_fscore_support(y_true=y_true,y_pred=y_pred,labels=labels)\n",
    "\n",
    "    avg = list(precision_recall_fscore_support(y_true=y_true, y_pred=y_pred,average='weighted'))\n",
    "\n",
    "    metrics_sum_index = ['precision', 'recall', 'f1-score', 'support']\n",
    "    class_report_df = pd.DataFrame(list(metrics_summary),index=metrics_sum_index,columns=labels)\n",
    "\n",
    "    support = class_report_df.loc['support']\n",
    "    total = support.sum() \n",
    "    class_report_df['avg / total'] = avg[:-1] + [total]\n",
    "\n",
    "    class_report_df = class_report_df.T\n",
    "    class_report_df['pred'] = pred_cnt\n",
    "    class_report_df['pred'].iloc[-1] = total\n",
    "\n",
    "    if not (y_score is None):\n",
    "        fpr = dict()\n",
    "        tpr = dict()\n",
    "        roc_auc = dict()\n",
    "        for label_it, label in enumerate(labels):\n",
    "            fpr[label], tpr[label], _ = roc_curve(\n",
    "                (y_true == label).astype(int), \n",
    "                y_score[:, label_it])\n",
    "\n",
    "            roc_auc[label] = auc(fpr[label], tpr[label])\n",
    "\n",
    "        if average == 'micro':\n",
    "            if n_classes <= 2:\n",
    "                fpr[\"avg / total\"], tpr[\"avg / total\"], _ = roc_curve(\n",
    "                    lb.transform(y_true).ravel(), \n",
    "                    y_score[:, 1].ravel())\n",
    "            else:\n",
    "                fpr[\"avg / total\"], tpr[\"avg / total\"], _ = roc_curve(\n",
    "                        lb.transform(y_true).ravel(), \n",
    "                        y_score.ravel())\n",
    "\n",
    "            roc_auc[\"avg / total\"] = auc(\n",
    "                fpr[\"avg / total\"], \n",
    "                tpr[\"avg / total\"])\n",
    "\n",
    "        elif average == 'macro':\n",
    "            # First aggregate all false positive rates\n",
    "            all_fpr = np.unique(np.concatenate([\n",
    "                fpr[i] for i in labels]\n",
    "            ))\n",
    "\n",
    "            # Then interpolate all ROC curves at this points\n",
    "            mean_tpr = np.zeros_like(all_fpr)\n",
    "            for i in labels:\n",
    "                mean_tpr += interp(all_fpr, fpr[i], tpr[i])\n",
    "\n",
    "            # Finally average it and compute AUC\n",
    "            mean_tpr /= n_classes\n",
    "\n",
    "            fpr[\"macro\"] = all_fpr\n",
    "            tpr[\"macro\"] = mean_tpr\n",
    "\n",
    "            roc_auc[\"avg / total\"] = auc(fpr[\"macro\"], tpr[\"macro\"])\n",
    "\n",
    "        class_report_df['AUC'] = pd.Series(roc_auc)\n",
    "\n",
    "    return class_report_df"
   ]
  },
  {
   "cell_type": "code",
   "execution_count": 112,
   "metadata": {},
   "outputs": [],
   "source": [
    "def plot_confusion_matrix(cm, classes,\n",
    "                          normalize=False,\n",
    "                          title='Confusion matrix',\n",
    "                          cmap=plt.cm.Blues):\n",
    "    \"\"\"\n",
    "    This function prints and plots the confusion matrix.\n",
    "    Normalization can be applied by setting `normalize=True`.\n",
    "    \"\"\"\n",
    "    if normalize:\n",
    "        cm = cm.astype('float') / cm.sum(axis=1)[:, np.newaxis]\n",
    "        print(\"Normalized confusion matrix\")\n",
    "    else:\n",
    "        print('Confusion matrix, without normalization')\n",
    "\n",
    "    print(cm)\n",
    "\n",
    "    plt.imshow(cm, interpolation='nearest', cmap=cmap)\n",
    "    plt.title(title)\n",
    "    plt.colorbar()\n",
    "    tick_marks = np.arange(len(classes))\n",
    "    plt.xticks(tick_marks, classes, rotation=45)\n",
    "    plt.yticks(tick_marks, classes)\n",
    "\n",
    "    fmt = '.2f' if normalize else 'd'\n",
    "    thresh = cm.max() / 2.\n",
    "    for i, j in itertools.product(range(cm.shape[0]), range(cm.shape[1])):\n",
    "        plt.text(j, i, format(cm[i, j], fmt),\n",
    "                 horizontalalignment=\"center\",\n",
    "                 color=\"white\" if cm[i, j] > thresh else \"black\")\n",
    "\n",
    "    plt.tight_layout()\n",
    "    plt.ylabel('True label')\n",
    "    plt.xlabel('Predicted label')"
   ]
  },
  {
   "cell_type": "code",
   "execution_count": 60,
   "metadata": {},
   "outputs": [],
   "source": [
    "train = pd.read_csv('/Users/yxll/Desktop/nerdwallet assignment/train_nw.csv')"
   ]
  },
  {
   "cell_type": "code",
   "execution_count": 15,
   "metadata": {},
   "outputs": [],
   "source": [
    "#check missing data in each column\n",
    "data_check=pd.DataFrame(train[feat_labels].isna().sum())\n",
    "data_check['percentage']=data_check[0]/len(train)"
   ]
  },
  {
   "cell_type": "code",
   "execution_count": 17,
   "metadata": {},
   "outputs": [
    {
     "data": {
      "text/html": [
       "<div>\n",
       "<style scoped>\n",
       "    .dataframe tbody tr th:only-of-type {\n",
       "        vertical-align: middle;\n",
       "    }\n",
       "\n",
       "    .dataframe tbody tr th {\n",
       "        vertical-align: top;\n",
       "    }\n",
       "\n",
       "    .dataframe thead th {\n",
       "        text-align: right;\n",
       "    }\n",
       "</style>\n",
       "<table border=\"1\" class=\"dataframe\">\n",
       "  <thead>\n",
       "    <tr style=\"text-align: right;\">\n",
       "      <th></th>\n",
       "      <th>0</th>\n",
       "      <th>percentage</th>\n",
       "    </tr>\n",
       "  </thead>\n",
       "  <tbody>\n",
       "    <tr>\n",
       "      <th>PurchDate</th>\n",
       "      <td>0</td>\n",
       "      <td>0.000000</td>\n",
       "    </tr>\n",
       "    <tr>\n",
       "      <th>Auction</th>\n",
       "      <td>0</td>\n",
       "      <td>0.000000</td>\n",
       "    </tr>\n",
       "    <tr>\n",
       "      <th>VehYear</th>\n",
       "      <td>0</td>\n",
       "      <td>0.000000</td>\n",
       "    </tr>\n",
       "    <tr>\n",
       "      <th>Make</th>\n",
       "      <td>0</td>\n",
       "      <td>0.000000</td>\n",
       "    </tr>\n",
       "    <tr>\n",
       "      <th>Model</th>\n",
       "      <td>0</td>\n",
       "      <td>0.000000</td>\n",
       "    </tr>\n",
       "    <tr>\n",
       "      <th>Trim</th>\n",
       "      <td>1694</td>\n",
       "      <td>0.032715</td>\n",
       "    </tr>\n",
       "    <tr>\n",
       "      <th>SubModel</th>\n",
       "      <td>6</td>\n",
       "      <td>0.000116</td>\n",
       "    </tr>\n",
       "    <tr>\n",
       "      <th>Color</th>\n",
       "      <td>6</td>\n",
       "      <td>0.000116</td>\n",
       "    </tr>\n",
       "    <tr>\n",
       "      <th>Transmission</th>\n",
       "      <td>7</td>\n",
       "      <td>0.000135</td>\n",
       "    </tr>\n",
       "    <tr>\n",
       "      <th>WheelTypeID</th>\n",
       "      <td>2211</td>\n",
       "      <td>0.042700</td>\n",
       "    </tr>\n",
       "    <tr>\n",
       "      <th>WheelType</th>\n",
       "      <td>2214</td>\n",
       "      <td>0.042758</td>\n",
       "    </tr>\n",
       "    <tr>\n",
       "      <th>VehOdo</th>\n",
       "      <td>0</td>\n",
       "      <td>0.000000</td>\n",
       "    </tr>\n",
       "    <tr>\n",
       "      <th>Size</th>\n",
       "      <td>3</td>\n",
       "      <td>0.000058</td>\n",
       "    </tr>\n",
       "    <tr>\n",
       "      <th>MMRAcquisitionAuctionAveragePrice</th>\n",
       "      <td>10</td>\n",
       "      <td>0.000193</td>\n",
       "    </tr>\n",
       "    <tr>\n",
       "      <th>MMRAcquisitionAuctionCleanPrice</th>\n",
       "      <td>10</td>\n",
       "      <td>0.000193</td>\n",
       "    </tr>\n",
       "    <tr>\n",
       "      <th>MMRAcquisitionRetailAveragePrice</th>\n",
       "      <td>10</td>\n",
       "      <td>0.000193</td>\n",
       "    </tr>\n",
       "    <tr>\n",
       "      <th>MMRAcquisitonRetailCleanPrice</th>\n",
       "      <td>10</td>\n",
       "      <td>0.000193</td>\n",
       "    </tr>\n",
       "    <tr>\n",
       "      <th>MMRCurrentAuctionAveragePrice</th>\n",
       "      <td>204</td>\n",
       "      <td>0.003940</td>\n",
       "    </tr>\n",
       "    <tr>\n",
       "      <th>MMRCurrentAuctionCleanPrice</th>\n",
       "      <td>204</td>\n",
       "      <td>0.003940</td>\n",
       "    </tr>\n",
       "    <tr>\n",
       "      <th>MMRCurrentRetailAveragePrice</th>\n",
       "      <td>204</td>\n",
       "      <td>0.003940</td>\n",
       "    </tr>\n",
       "    <tr>\n",
       "      <th>MMRCurrentRetailCleanPrice</th>\n",
       "      <td>204</td>\n",
       "      <td>0.003940</td>\n",
       "    </tr>\n",
       "    <tr>\n",
       "      <th>PRIMEUNIT</th>\n",
       "      <td>49317</td>\n",
       "      <td>0.952433</td>\n",
       "    </tr>\n",
       "    <tr>\n",
       "      <th>AUCGUART</th>\n",
       "      <td>49317</td>\n",
       "      <td>0.952433</td>\n",
       "    </tr>\n",
       "    <tr>\n",
       "      <th>BYRNO</th>\n",
       "      <td>0</td>\n",
       "      <td>0.000000</td>\n",
       "    </tr>\n",
       "    <tr>\n",
       "      <th>VNZIP1</th>\n",
       "      <td>0</td>\n",
       "      <td>0.000000</td>\n",
       "    </tr>\n",
       "    <tr>\n",
       "      <th>VNST</th>\n",
       "      <td>0</td>\n",
       "      <td>0.000000</td>\n",
       "    </tr>\n",
       "    <tr>\n",
       "      <th>VehBCost</th>\n",
       "      <td>0</td>\n",
       "      <td>0.000000</td>\n",
       "    </tr>\n",
       "    <tr>\n",
       "      <th>IsOnlineSale</th>\n",
       "      <td>0</td>\n",
       "      <td>0.000000</td>\n",
       "    </tr>\n",
       "    <tr>\n",
       "      <th>WarrantyCost</th>\n",
       "      <td>0</td>\n",
       "      <td>0.000000</td>\n",
       "    </tr>\n",
       "  </tbody>\n",
       "</table>\n",
       "</div>"
      ],
      "text/plain": [
       "                                       0  percentage\n",
       "PurchDate                              0    0.000000\n",
       "Auction                                0    0.000000\n",
       "VehYear                                0    0.000000\n",
       "Make                                   0    0.000000\n",
       "Model                                  0    0.000000\n",
       "Trim                                1694    0.032715\n",
       "SubModel                               6    0.000116\n",
       "Color                                  6    0.000116\n",
       "Transmission                           7    0.000135\n",
       "WheelTypeID                         2211    0.042700\n",
       "WheelType                           2214    0.042758\n",
       "VehOdo                                 0    0.000000\n",
       "Size                                   3    0.000058\n",
       "MMRAcquisitionAuctionAveragePrice     10    0.000193\n",
       "MMRAcquisitionAuctionCleanPrice       10    0.000193\n",
       "MMRAcquisitionRetailAveragePrice      10    0.000193\n",
       "MMRAcquisitonRetailCleanPrice         10    0.000193\n",
       "MMRCurrentAuctionAveragePrice        204    0.003940\n",
       "MMRCurrentAuctionCleanPrice          204    0.003940\n",
       "MMRCurrentRetailAveragePrice         204    0.003940\n",
       "MMRCurrentRetailCleanPrice           204    0.003940\n",
       "PRIMEUNIT                          49317    0.952433\n",
       "AUCGUART                           49317    0.952433\n",
       "BYRNO                                  0    0.000000\n",
       "VNZIP1                                 0    0.000000\n",
       "VNST                                   0    0.000000\n",
       "VehBCost                               0    0.000000\n",
       "IsOnlineSale                           0    0.000000\n",
       "WarrantyCost                           0    0.000000"
      ]
     },
     "execution_count": 17,
     "metadata": {},
     "output_type": "execute_result"
    }
   ],
   "source": [
    "#PRIMEUNIT and AUCGUART has > 90% null value, remove from analysis\n",
    "data_check"
   ]
  },
  {
   "cell_type": "code",
   "execution_count": 97,
   "metadata": {},
   "outputs": [
    {
     "data": {
      "text/plain": [
       "['Auction',\n",
       " 'VehYear',\n",
       " 'Make',\n",
       " 'Model',\n",
       " 'Trim',\n",
       " 'SubModel',\n",
       " 'Color',\n",
       " 'Transmission',\n",
       " 'WheelTypeID',\n",
       " 'VehOdo',\n",
       " 'Size',\n",
       " 'MMRAcquisitionAuctionAveragePrice',\n",
       " 'MMRAcquisitionAuctionCleanPrice',\n",
       " 'MMRAcquisitionRetailAveragePrice',\n",
       " 'MMRAcquisitonRetailCleanPrice',\n",
       " 'MMRCurrentAuctionAveragePrice',\n",
       " 'MMRCurrentAuctionCleanPrice',\n",
       " 'MMRCurrentRetailAveragePrice',\n",
       " 'MMRCurrentRetailCleanPrice',\n",
       " 'BYRNO',\n",
       " 'VNST',\n",
       " 'VehBCost',\n",
       " 'IsOnlineSale',\n",
       " 'WarrantyCost']"
      ]
     },
     "execution_count": 97,
     "metadata": {},
     "output_type": "execute_result"
    }
   ],
   "source": [
    "#remove PRIMEUNIT and AUCGUART due to data quality\n",
    "#remove WheelType due to info duplication\n",
    "#remove VNZIP due to info duplication\n",
    "#remove RefID for useless info\n",
    "#remove PurchDate\n",
    "unwanted = ['PurchDate', 'WheelType', 'PRIMEUNIT', 'AUCGUART', 'VNZIP1']\n",
    "feat_labels=[e for e in list(train)[:-1][1:] if e not in unwanted]"
   ]
  },
  {
   "cell_type": "code",
   "execution_count": 64,
   "metadata": {},
   "outputs": [],
   "source": [
    "#covert vehicle year to years from 2018\n",
    "train['VehYear']=2018-train['VehYear']"
   ]
  },
  {
   "cell_type": "code",
   "execution_count": 90,
   "metadata": {},
   "outputs": [],
   "source": [
    "#feature selection\n",
    "#Pick threshold of 0.05\n",
    "import scipy.stats as stats\n",
    "from scipy.stats import chi2_contingency\n",
    "\n",
    "class ChiSquare:\n",
    "    def __init__(self, dataframe):\n",
    "        self.df = dataframe\n",
    "        self.p = None #P-Value\n",
    "        self.chi2 = None #Chi Test Statistic\n",
    "        self.dof = None\n",
    "        \n",
    "        self.dfTabular = None\n",
    "        self.dfExpected = None\n",
    "        \n",
    "    def _print_chisquare_result(self, colX, alpha):\n",
    "            result = \"\"\n",
    "            if self.p<alpha:\n",
    "                result=\"{0} is IMPORTANT\".format(colX)\n",
    "            else:\n",
    "                result=\"{0} is NOT IMPORTANT\".format(colX)\n",
    "\n",
    "            print(result)\n",
    "\n",
    "    def TestIndependence(self,colX,colY, alpha=0.05):\n",
    "            X = self.df[colX].astype(str)\n",
    "            Y = self.df[colY].astype(str)\n",
    "\n",
    "            self.dfObserved = pd.crosstab(Y,X) \n",
    "            chi2, p, dof, expected = stats.chi2_contingency(self.dfObserved.values)\n",
    "            self.p = p\n",
    "            self.chi2 = chi2\n",
    "            self.dof = dof \n",
    "\n",
    "            self.dfExpected = pd.DataFrame(expected, columns=self.dfObserved.columns, index = self.dfObserved.index)\n",
    "\n",
    "            self._print_chisquare_result(colX, alpha)"
   ]
  },
  {
   "cell_type": "code",
   "execution_count": 92,
   "metadata": {},
   "outputs": [
    {
     "name": "stdout",
     "output_type": "stream",
     "text": [
      "Auction is IMPORTANT\n",
      "VehYear is IMPORTANT\n",
      "Make is IMPORTANT\n",
      "Model is IMPORTANT\n",
      "Trim is IMPORTANT\n",
      "SubModel is IMPORTANT\n",
      "Color is IMPORTANT\n",
      "Transmission is NOT IMPORTANT\n",
      "WheelTypeID is IMPORTANT\n",
      "VehOdo is IMPORTANT\n",
      "Size is IMPORTANT\n",
      "MMRAcquisitionAuctionAveragePrice is IMPORTANT\n",
      "MMRAcquisitionAuctionCleanPrice is IMPORTANT\n",
      "MMRAcquisitionRetailAveragePrice is IMPORTANT\n",
      "MMRAcquisitonRetailCleanPrice is IMPORTANT\n",
      "MMRCurrentAuctionAveragePrice is IMPORTANT\n",
      "MMRCurrentAuctionCleanPrice is IMPORTANT\n",
      "MMRCurrentRetailAveragePrice is IMPORTANT\n",
      "MMRCurrentRetailCleanPrice is IMPORTANT\n",
      "BYRNO is IMPORTANT\n",
      "VNST is IMPORTANT\n",
      "VehBCost is IMPORTANT\n",
      "IsOnlineSale is NOT IMPORTANT\n",
      "WarrantyCost is IMPORTANT\n"
     ]
    }
   ],
   "source": [
    "cT = ChiSquare(train)\n",
    "for var in feat_labels:\n",
    "    cT.TestIndependence(colX=var,colY=\"IsBadBuy\") "
   ]
  },
  {
   "cell_type": "code",
   "execution_count": 99,
   "metadata": {},
   "outputs": [],
   "source": [
    "#keep only theimportant features\n",
    "unwanted = ['Transmission', 'IsOnlineSale']\n",
    "feat_labels=[e for e in feat_labels if e not in unwanted]"
   ]
  },
  {
   "cell_type": "code",
   "execution_count": 100,
   "metadata": {},
   "outputs": [],
   "source": [
    "# Create a list of feature names\n",
    "# sample train and test set\n",
    "y = train[\"IsBadBuy\"]\n",
    "X = train.fillna(0)[feat_labels]"
   ]
  },
  {
   "cell_type": "code",
   "execution_count": 103,
   "metadata": {},
   "outputs": [],
   "source": [
    "X_train, X_test, y_train, y_test = train_test_split(X, y, test_size=0.2, random_state=0)"
   ]
  },
  {
   "cell_type": "code",
   "execution_count": 67,
   "metadata": {},
   "outputs": [],
   "source": [
    "#calculate class ratio\n",
    "weight=[(Counter(y)[i] / len(y) * 100.0) for i in Counter(y)]"
   ]
  },
  {
   "cell_type": "code",
   "execution_count": 68,
   "metadata": {},
   "outputs": [
    {
     "data": {
      "text/plain": [
       "[87.60525299343375, 12.394747006566242]"
      ]
     },
     "execution_count": 68,
     "metadata": {},
     "output_type": "execute_result"
    }
   ],
   "source": [
    "#check class imbalance or not\n",
    "#the data has 87% class 0 and 13% class 1\n",
    "#considered as imbalanced data\n",
    "weight"
   ]
  },
  {
   "cell_type": "code",
   "execution_count": 107,
   "metadata": {},
   "outputs": [
    {
     "name": "stdout",
     "output_type": "stream",
     "text": [
      "0.3412042890809873\n"
     ]
    }
   ],
   "source": [
    "X_train_hash = copy.copy(X_train)\n",
    "X_test_hash = copy.copy(X_test)\n",
    "for i in range(X_train_hash.shape[1]):\n",
    "    X_train_hash.iloc[:,i]=X_train_hash.iloc[:,i].astype('str')\n",
    "for i in range(X_test_hash.shape[1]):\n",
    "    X_test_hash.iloc[:,i]=X_test_hash.iloc[:,i].astype('str')\n",
    "h = FeatureHasher(n_features=100,input_type=\"string\")\n",
    "X_train_hash = h.transform(X_train_hash.values)\n",
    "X_test_hash = h.transform(X_test_hash.values)"
   ]
  },
  {
   "cell_type": "code",
   "execution_count": 121,
   "metadata": {},
   "outputs": [
    {
     "name": "stdout",
     "output_type": "stream",
     "text": [
      "0.3561490117777587\n",
      "Final Report for LR\n",
      "             precision    recall  f1-score  support     pred\n",
      "0             0.876320  0.998455  0.933409   9062.0  10325.0\n",
      "1             0.548387  0.013138  0.025660   1294.0     31.0\n",
      "avg / total   0.835344  0.875338  0.819984  10356.0  10356.0\n",
      "Confusion matrix, without normalization\n",
      "[[9048   14]\n",
      " [1277   17]]\n"
     ]
    },
    {
     "data": {
      "image/png": "[encoded data removed]",
      "text/plain": [
       "<matplotlib.figure.Figure at 0x1a3b281c50>"
      ]
     },
     "metadata": {},
     "output_type": "display_data"
    }
   ],
   "source": [
    "l = LogisticRegression()\n",
    "r = RandomForestClassifier(n_estimators=25,max_depth=10)\n",
    "\n",
    "l.fit(X_train_hash,y_train)\n",
    "y_pred = l.predict_proba(X_test_hash)\n",
    "l_pred=pd.DataFrame.from_records(y_pred)\n",
    "l_pred['pred']=np.where(l_pred[0]>l_pred[1], 0, 1)\n",
    "\n",
    "sk_report = class_report(y_true=y_test, y_pred=l_pred['pred'])\n",
    "print(\"Final Report for LR\")\n",
    "print(sk_report)\n",
    "plt.figure()\n",
    "plot_confusion_matrix(confusion_matrix(y_test, l_pred['pred']), classes=[0,1])"
   ]
  },
  {
   "cell_type": "code",
   "execution_count": 143,
   "metadata": {},
   "outputs": [
    {
     "name": "stdout",
     "output_type": "stream",
     "text": [
      "Final Report for RF\n",
      "             precision    recall  f1-score  support     pred\n",
      "0             0.876706  0.999669  0.934158   9062.0  10333.0\n",
      "1             0.869565  0.015456  0.030372   1294.0     23.0\n",
      "avg / total   0.875813  0.876690  0.821229  10356.0  10356.0\n",
      "Confusion matrix, without normalization\n",
      "[[9059    3]\n",
      " [1274   20]]\n"
     ]
    },
    {
     "data": {
      "image/png": "[encoded data removed]",
      "text/plain": [
       "<matplotlib.figure.Figure at 0x11c8f0940>"
      ]
     },
     "metadata": {},
     "output_type": "display_data"
    }
   ],
   "source": [
    "r.fit(X_train_hash,y_train)\n",
    "y_pred = r.predict_proba(X_test_hash)\n",
    "r_pred=pd.DataFrame.from_records(y_pred)\n",
    "r_pred['pred']=np.where(r_pred[0]>r_pred[1], 0, 1)\n",
    "\n",
    "sk_report = class_report(y_true=y_test, y_pred=r_pred['pred'])\n",
    "print(\"Final Report for RF\")\n",
    "print(sk_report)\n",
    "plt.figure()\n",
    "plot_confusion_matrix(confusion_matrix(y_test, r_pred['pred']), classes=[0,1])"
   ]
  },
  {
   "cell_type": "code",
   "execution_count": 142,
   "metadata": {},
   "outputs": [
    {
     "name": "stdout",
     "output_type": "stream",
     "text": [
      "Final Report for RF_Weighted\n",
      "             precision    recall  f1-score  support     pred\n",
      "0             0.875979  1.000000  0.933890   9062.0  10345.0\n",
      "1             1.000000  0.008501  0.016858   1294.0     11.0\n",
      "avg / total   0.891475  0.876110  0.819305  10356.0  10356.0\n",
      "Confusion matrix, without normalization\n",
      "[[9062    0]\n",
      " [1283   11]]\n"
     ]
    },
    {
     "data": {
      "image/png": "[encoded data removed]",
      "text/plain": [
       "<matplotlib.figure.Figure at 0x1a1f5f64a8>"
      ]
     },
     "metadata": {},
     "output_type": "display_data"
    }
   ],
   "source": [
    "#add class weight to RF model to address imbalance data issue\n",
    "r_weighted = RandomForestClassifier(n_estimators=25,max_depth=10,class_weight = {0:weight[1],1:weight[0]})\n",
    "r_weighted.fit(X_train_hash,y_train)\n",
    "y_pred = r.predict_proba(X_test_hash)\n",
    "r_weighted_pred=pd.DataFrame.from_records(y_pred)\n",
    "r_weighted_pred['pred']=np.where(r_weighted_pred[0]>r_weighted_pred[1], 0, 1)\n",
    "\n",
    "sk_report = class_report(y_true=y_test, y_pred=r_weighted_pred['pred'])\n",
    "print(\"Final Report for RF_Weighted\")\n",
    "print(sk_report)\n",
    "plt.figure()\n",
    "plot_confusion_matrix(confusion_matrix(y_test, r_weighted_pred['pred']), classes=[0,1])"
   ]
  },
  {
   "cell_type": "code",
   "execution_count": 147,
   "metadata": {},
   "outputs": [
    {
     "name": "stdout",
     "output_type": "stream",
     "text": [
      "After OverSampling, the shape of train_X: (72600, 100)\n",
      "After OverSampling, the shape of train_y: (72600,) \n",
      "\n",
      "After OverSampling, counts of label '1': 36300\n",
      "After OverSampling, counts of label '0': 36300\n"
     ]
    }
   ],
   "source": [
    "#apply SMOTE to balance 0 and 1\n",
    "sm = SMOTE(random_state=2)\n",
    "X_train_res, y_train_res = sm.fit_sample(X_train_hash, y_train.ravel())\n",
    "\n",
    "print('After OverSampling, the shape of train_X: {}'.format(X_train_res.shape))\n",
    "print('After OverSampling, the shape of train_y: {} \\n'.format(y_train_res.shape))\n",
    "\n",
    "print(\"After OverSampling, counts of label '1': {}\".format(sum(y_train_res==1)))\n",
    "print(\"After OverSampling, counts of label '0': {}\".format(sum(y_train_res==0)))"
   ]
  },
  {
   "cell_type": "code",
   "execution_count": 150,
   "metadata": {},
   "outputs": [
    {
     "name": "stdout",
     "output_type": "stream",
     "text": [
      "Final Report for RF w/SMOTE\n",
      "             precision    recall  f1-score  support     pred\n",
      "0             0.899694  0.972964  0.934896   9062.0   9800.0\n",
      "1             0.559353  0.240340  0.336216   1294.0    556.0\n",
      "avg / total   0.857168  0.881421  0.860090  10356.0  10356.0\n",
      "Confusion matrix, without normalization\n",
      "[[8817  245]\n",
      " [ 983  311]]\n"
     ]
    },
    {
     "data": {
      "image/png": "[encoded data removed]",
      "text/plain": [
       "<matplotlib.figure.Figure at 0x1a205d6748>"
      ]
     },
     "metadata": {},
     "output_type": "display_data"
    }
   ],
   "source": [
    "#data after SMOTE does f1_score for class 1 prediction better\n",
    "r.fit(X_train_res,y_train_res)\n",
    "y_pred = r.predict_proba(X_test_hash)\n",
    "r_pred=pd.DataFrame.from_records(y_pred)\n",
    "r_pred['pred']=np.where(r_pred[0]>r_pred[1], 0, 1)\n",
    "\n",
    "sk_report = class_report(y_true=y_test, y_pred=r_pred['pred'])\n",
    "print(\"Final Report for RF w/SMOTE\")\n",
    "print(sk_report)\n",
    "plt.figure()\n",
    "plot_confusion_matrix(confusion_matrix(y_test, r_pred['pred']), classes=[0,1])"
   ]
  },
  {
   "cell_type": "code",
   "execution_count": 137,
   "metadata": {},
   "outputs": [],
   "source": [
    "#use RF model w/SMOTE to train all train set and make prediction on test set\n",
    "test = pd.read_csv('/Users/yxll/Desktop/nerdwallet assignment/test_nw.csv')\n",
    "refid=test['RefId']\n",
    "test=test.fillna(0)[feat_labels]"
   ]
  },
  {
   "cell_type": "code",
   "execution_count": 131,
   "metadata": {},
   "outputs": [],
   "source": [
    "X_hash = copy.copy(X)\n",
    "test_hash = copy.copy(test)\n",
    "for i in range(X_hash.shape[1]):\n",
    "    X_hash.iloc[:,i]=X_hash.iloc[:,i].astype('str')\n",
    "for i in range(test_hash.shape[1]):\n",
    "    test_hash.iloc[:,i]=test_hash.iloc[:,i].astype('str')\n",
    "h = FeatureHasher(n_features=100,input_type=\"string\")\n",
    "X_hash = h.transform(X_hash.values)\n",
    "test_hash = h.transform(test_hash.values)"
   ]
  },
  {
   "cell_type": "code",
   "execution_count": 151,
   "metadata": {},
   "outputs": [
    {
     "name": "stdout",
     "output_type": "stream",
     "text": [
      "After OverSampling, the shape of train_X: (90724, 100)\n",
      "After OverSampling, the shape of train_y: (90724,) \n",
      "\n",
      "After OverSampling, counts of label '1': 45362\n",
      "After OverSampling, counts of label '0': 45362\n"
     ]
    }
   ],
   "source": [
    "X_res, y_res = sm.fit_sample(X_hash, y.ravel())\n",
    "\n",
    "print('After OverSampling, the shape of train_X: {}'.format(X_res.shape))\n",
    "print('After OverSampling, the shape of train_y: {} \\n'.format(y_res.shape))\n",
    "\n",
    "print(\"After OverSampling, counts of label '1': {}\".format(sum(y_res==1)))\n",
    "print(\"After OverSampling, counts of label '0': {}\".format(sum(y_res==0)))"
   ]
  },
  {
   "cell_type": "code",
   "execution_count": 152,
   "metadata": {},
   "outputs": [],
   "source": [
    "r.fit(X_res,y_res)\n",
    "y_pred = r.predict_proba(test_hash)\n",
    "r_weighted_pred_final=pd.DataFrame.from_records(y_pred)\n",
    "r_weighted_pred_final['pred']=np.where(r_weighted_pred_final[0]>r_weighted_pred_final[1], 0, 1)"
   ]
  },
  {
   "cell_type": "code",
   "execution_count": 153,
   "metadata": {},
   "outputs": [],
   "source": [
    "#add back refid\n",
    "r_weighted_pred_final['RefId']=refid"
   ]
  },
  {
   "cell_type": "code",
   "execution_count": 154,
   "metadata": {},
   "outputs": [],
   "source": [
    "#export to csv\n",
    "r_weighted_pred_final.to_csv('/Users/yxll/Desktop/nerdwallet assignment/test_predictions.csv', index=False)"
   ]
  },
  {
   "cell_type": "code",
   "execution_count": null,
   "metadata": {},
   "outputs": [],
   "source": []
  }
 ],
 "metadata": {
  "kernelspec": {
   "display_name": "Python 3",
   "language": "python",
   "name": "python3"
  },
  "language_info": {
   "codemirror_mode": {
    "name": "ipython",
    "version": 3
   },
   "file_extension": ".py",
   "mimetype": "text/x-python",
   "name": "python",
   "nbconvert_exporter": "python",
   "pygments_lexer": "ipython3",
   "version": "3.6.4"
  }
 },
 "nbformat": 4,
 "nbformat_minor": 2
}
